{
 "cells": [
  {
   "cell_type": "markdown",
   "metadata": {},
   "source": [
    "# Linear Regression"
   ]
  },
  {
   "cell_type": "markdown",
   "metadata": {},
   "source": [
    "#### Import required packages"
   ]
  },
  {
   "cell_type": "code",
   "execution_count": 1,
   "metadata": {
    "collapsed": true
   },
   "outputs": [],
   "source": [
    "import numpy as np\n",
    "import matplotlib.pyplot as plt\n",
    "import cntk\n",
    "from cntk import Trainer, learning_rate_schedule, UnitType\n",
    "from cntk.learners import sgd\n",
    "from cntk.layers import default_options, Dense\n",
    "import argparse"
   ]
  },
  {
   "cell_type": "markdown",
   "metadata": {},
   "source": [
    "#### Define the parameters"
   ]
  },
  {
   "cell_type": "code",
   "execution_count": 2,
   "metadata": {
    "collapsed": true
   },
   "outputs": [],
   "source": [
    "num_samples = 500\n",
    "initial_learning_rate = 0.001\n",
    "num_epochs = 10\n",
    "num_samples_to_train = 400\n",
    "batch_size = 25\n",
    "\n",
    "# Network has only one output which is its prediction.\n",
    "input_dim = 1\n",
    "num_outputs = 1\n",
    "num_minibatches_to_train = int(num_samples_to_train / batch_size)"
   ]
  },
  {
   "cell_type": "markdown",
   "metadata": {},
   "source": [
    "### Arbitrary data creation"
   ]
  },
  {
   "cell_type": "code",
   "execution_count": 3,
   "metadata": {
    "collapsed": true
   },
   "outputs": [],
   "source": [
    "# random data\n",
    "features = np.linspace(-1, 1, num_samples)\n",
    "predictions = 2 * features + np.random.randn(*features.shape) * 0.5"
   ]
  },
  {
   "cell_type": "markdown",
   "metadata": {},
   "source": [
    "### Scatter plot"
   ]
  },
  {
   "cell_type": "code",
   "execution_count": 4,
   "metadata": {},
   "outputs": [
    {
     "data": {
      "image/png": "[encoded data removed]",
      "text/plain": [
       "<matplotlib.figure.Figure at 0x7f6da58a5400>"
      ]
     },
     "metadata": {},
     "output_type": "display_data"
    }
   ],
   "source": [
    "plt.scatter(features, predictions, c='r')\n",
    "plt.xlabel(\"X\")\n",
    "plt.ylabel(\"Y\")\n",
    "plt.show()"
   ]
  },
  {
   "cell_type": "markdown",
   "metadata": {},
   "source": [
    "#### Adding one dimension for further processing. Input must be formatted as (batch_size,1)."
   ]
  },
  {
   "cell_type": "code",
   "execution_count": 5,
   "metadata": {
    "collapsed": true
   },
   "outputs": [],
   "source": [
    "features = features[:,None]\n",
    "predictions = predictions[:,None]\n"
   ]
  },
  {
   "cell_type": "markdown",
   "metadata": {},
   "source": [
    "### Network Architecture"
   ]
  },
  {
   "cell_type": "markdown",
   "metadata": {},
   "source": [
    "#### Output is a single node with a linear operation."
   ]
  },
  {
   "cell_type": "code",
   "execution_count": 6,
   "metadata": {
    "collapsed": true
   },
   "outputs": [],
   "source": [
    "input = cntk.input_variable(input_dim)\n",
    "label = cntk.input_variable(num_outputs)\n",
    "pred = Dense(num_outputs)(input)"
   ]
  },
  {
   "cell_type": "markdown",
   "metadata": {},
   "source": [
    "#### Defining loss"
   ]
  },
  {
   "cell_type": "code",
   "execution_count": 7,
   "metadata": {
    "collapsed": true
   },
   "outputs": [],
   "source": [
    "loss = cntk.squared_error(pred, label)\n",
    "eval_fun = cntk.squared_error(pred, label)"
   ]
  },
  {
   "cell_type": "markdown",
   "metadata": {},
   "source": [
    "## Training"
   ]
  },
  {
   "cell_type": "markdown",
   "metadata": {},
   "source": [
    "#### Instantiate the trainer object to drive the model training"
   ]
  },
  {
   "cell_type": "code",
   "execution_count": 8,
   "metadata": {
    "collapsed": true
   },
   "outputs": [],
   "source": [
    "learning_rate = learning_rate_schedule(initial_learning_rate, UnitType.minibatch)\n",
    "optimizer_op = sgd(pred.parameters, learning_rate)\n",
    "train_op = Trainer(pred, (loss, eval_fun), [optimizer_op])"
   ]
  },
  {
   "cell_type": "markdown",
   "metadata": {},
   "source": [
    "#### Training loop"
   ]
  },
  {
   "cell_type": "code",
   "execution_count": 9,
   "metadata": {},
   "outputs": [
    {
     "name": "stdout",
     "output_type": "stream",
     "text": [
      "Epoch: 1, Minibatch: 0, Loss: 10.27\n",
      "Epoch: 1, Minibatch: 1, Loss: 8.03\n",
      "Epoch: 1, Minibatch: 2, Loss: 6.51\n",
      "Epoch: 1, Minibatch: 3, Loss: 5.30\n",
      "Epoch: 1, Minibatch: 4, Loss: 3.76\n",
      "Epoch: 1, Minibatch: 5, Loss: 2.48\n",
      "Epoch: 1, Minibatch: 6, Loss: 1.87\n",
      "Epoch: 1, Minibatch: 7, Loss: 0.76\n",
      "Epoch: 1, Minibatch: 8, Loss: 0.87\n",
      "Epoch: 1, Minibatch: 9, Loss: 0.27\n",
      "Epoch: 1, Minibatch: 10, Loss: 0.30\n",
      "Epoch: 1, Minibatch: 11, Loss: 0.69\n",
      "Epoch: 1, Minibatch: 12, Loss: 0.66\n",
      "Epoch: 1, Minibatch: 13, Loss: 1.72\n",
      "Epoch: 1, Minibatch: 14, Loss: 2.39\n",
      "Epoch: 1, Minibatch: 15, Loss: 3.85\n",
      "Epoch: 2, Minibatch: 0, Loss: 9.97\n",
      "Epoch: 2, Minibatch: 1, Loss: 7.78\n",
      "Epoch: 2, Minibatch: 2, Loss: 6.30\n",
      "Epoch: 2, Minibatch: 3, Loss: 5.12\n",
      "Epoch: 2, Minibatch: 4, Loss: 3.63\n",
      "Epoch: 2, Minibatch: 5, Loss: 2.38\n",
      "Epoch: 2, Minibatch: 6, Loss: 1.80\n",
      "Epoch: 2, Minibatch: 7, Loss: 0.72\n",
      "Epoch: 2, Minibatch: 8, Loss: 0.83\n",
      "Epoch: 2, Minibatch: 9, Loss: 0.26\n",
      "Epoch: 2, Minibatch: 10, Loss: 0.31\n",
      "Epoch: 2, Minibatch: 11, Loss: 0.71\n",
      "Epoch: 2, Minibatch: 12, Loss: 0.68\n",
      "Epoch: 2, Minibatch: 13, Loss: 1.75\n",
      "Epoch: 2, Minibatch: 14, Loss: 2.41\n",
      "Epoch: 2, Minibatch: 15, Loss: 3.87\n",
      "Epoch: 3, Minibatch: 0, Loss: 9.68\n",
      "Epoch: 3, Minibatch: 1, Loss: 7.54\n",
      "Epoch: 3, Minibatch: 2, Loss: 6.10\n",
      "Epoch: 3, Minibatch: 3, Loss: 4.96\n",
      "Epoch: 3, Minibatch: 4, Loss: 3.50\n",
      "Epoch: 3, Minibatch: 5, Loss: 2.28\n",
      "Epoch: 3, Minibatch: 6, Loss: 1.73\n",
      "Epoch: 3, Minibatch: 7, Loss: 0.68\n",
      "Epoch: 3, Minibatch: 8, Loss: 0.80\n",
      "Epoch: 3, Minibatch: 9, Loss: 0.25\n",
      "Epoch: 3, Minibatch: 10, Loss: 0.32\n",
      "Epoch: 3, Minibatch: 11, Loss: 0.73\n",
      "Epoch: 3, Minibatch: 12, Loss: 0.70\n",
      "Epoch: 3, Minibatch: 13, Loss: 1.77\n",
      "Epoch: 3, Minibatch: 14, Loss: 2.43\n",
      "Epoch: 3, Minibatch: 15, Loss: 3.89\n",
      "Epoch: 4, Minibatch: 0, Loss: 9.40\n",
      "Epoch: 4, Minibatch: 1, Loss: 7.31\n",
      "Epoch: 4, Minibatch: 2, Loss: 5.90\n",
      "Epoch: 4, Minibatch: 3, Loss: 4.80\n",
      "Epoch: 4, Minibatch: 4, Loss: 3.37\n",
      "Epoch: 4, Minibatch: 5, Loss: 2.20\n",
      "Epoch: 4, Minibatch: 6, Loss: 1.66\n",
      "Epoch: 4, Minibatch: 7, Loss: 0.65\n",
      "Epoch: 4, Minibatch: 8, Loss: 0.78\n",
      "Epoch: 4, Minibatch: 9, Loss: 0.25\n",
      "Epoch: 4, Minibatch: 10, Loss: 0.33\n",
      "Epoch: 4, Minibatch: 11, Loss: 0.75\n",
      "Epoch: 4, Minibatch: 12, Loss: 0.72\n",
      "Epoch: 4, Minibatch: 13, Loss: 1.80\n",
      "Epoch: 4, Minibatch: 14, Loss: 2.46\n",
      "Epoch: 4, Minibatch: 15, Loss: 3.91\n",
      "Epoch: 5, Minibatch: 0, Loss: 9.14\n",
      "Epoch: 5, Minibatch: 1, Loss: 7.09\n",
      "Epoch: 5, Minibatch: 2, Loss: 5.72\n",
      "Epoch: 5, Minibatch: 3, Loss: 4.65\n",
      "Epoch: 5, Minibatch: 4, Loss: 3.26\n",
      "Epoch: 5, Minibatch: 5, Loss: 2.11\n",
      "Epoch: 5, Minibatch: 6, Loss: 1.59\n",
      "Epoch: 5, Minibatch: 7, Loss: 0.62\n",
      "Epoch: 5, Minibatch: 8, Loss: 0.75\n",
      "Epoch: 5, Minibatch: 9, Loss: 0.24\n",
      "Epoch: 5, Minibatch: 10, Loss: 0.34\n",
      "Epoch: 5, Minibatch: 11, Loss: 0.77\n",
      "Epoch: 5, Minibatch: 12, Loss: 0.74\n",
      "Epoch: 5, Minibatch: 13, Loss: 1.82\n",
      "Epoch: 5, Minibatch: 14, Loss: 2.48\n",
      "Epoch: 5, Minibatch: 15, Loss: 3.93\n",
      "Epoch: 6, Minibatch: 0, Loss: 8.88\n",
      "Epoch: 6, Minibatch: 1, Loss: 6.88\n",
      "Epoch: 6, Minibatch: 2, Loss: 5.54\n",
      "Epoch: 6, Minibatch: 3, Loss: 4.51\n",
      "Epoch: 6, Minibatch: 4, Loss: 3.14\n",
      "Epoch: 6, Minibatch: 5, Loss: 2.03\n",
      "Epoch: 6, Minibatch: 6, Loss: 1.53\n",
      "Epoch: 6, Minibatch: 7, Loss: 0.59\n",
      "Epoch: 6, Minibatch: 8, Loss: 0.73\n",
      "Epoch: 6, Minibatch: 9, Loss: 0.24\n",
      "Epoch: 6, Minibatch: 10, Loss: 0.35\n",
      "Epoch: 6, Minibatch: 11, Loss: 0.79\n",
      "Epoch: 6, Minibatch: 12, Loss: 0.76\n",
      "Epoch: 6, Minibatch: 13, Loss: 1.84\n",
      "Epoch: 6, Minibatch: 14, Loss: 2.49\n",
      "Epoch: 6, Minibatch: 15, Loss: 3.94\n",
      "Epoch: 7, Minibatch: 0, Loss: 8.64\n",
      "Epoch: 7, Minibatch: 1, Loss: 6.67\n",
      "Epoch: 7, Minibatch: 2, Loss: 5.38\n",
      "Epoch: 7, Minibatch: 3, Loss: 4.37\n",
      "Epoch: 7, Minibatch: 4, Loss: 3.04\n",
      "Epoch: 7, Minibatch: 5, Loss: 1.96\n",
      "Epoch: 7, Minibatch: 6, Loss: 1.47\n",
      "Epoch: 7, Minibatch: 7, Loss: 0.56\n",
      "Epoch: 7, Minibatch: 8, Loss: 0.70\n",
      "Epoch: 7, Minibatch: 9, Loss: 0.24\n",
      "Epoch: 7, Minibatch: 10, Loss: 0.36\n",
      "Epoch: 7, Minibatch: 11, Loss: 0.80\n",
      "Epoch: 7, Minibatch: 12, Loss: 0.77\n",
      "Epoch: 7, Minibatch: 13, Loss: 1.86\n",
      "Epoch: 7, Minibatch: 14, Loss: 2.51\n",
      "Epoch: 7, Minibatch: 15, Loss: 3.95\n",
      "Epoch: 8, Minibatch: 0, Loss: 8.40\n",
      "Epoch: 8, Minibatch: 1, Loss: 6.48\n",
      "Epoch: 8, Minibatch: 2, Loss: 5.21\n",
      "Epoch: 8, Minibatch: 3, Loss: 4.24\n",
      "Epoch: 8, Minibatch: 4, Loss: 2.94\n",
      "Epoch: 8, Minibatch: 5, Loss: 1.88\n",
      "Epoch: 8, Minibatch: 6, Loss: 1.42\n",
      "Epoch: 8, Minibatch: 7, Loss: 0.53\n",
      "Epoch: 8, Minibatch: 8, Loss: 0.68\n",
      "Epoch: 8, Minibatch: 9, Loss: 0.23\n",
      "Epoch: 8, Minibatch: 10, Loss: 0.37\n",
      "Epoch: 8, Minibatch: 11, Loss: 0.82\n",
      "Epoch: 8, Minibatch: 12, Loss: 0.79\n",
      "Epoch: 8, Minibatch: 13, Loss: 1.88\n",
      "Epoch: 8, Minibatch: 14, Loss: 2.53\n",
      "Epoch: 8, Minibatch: 15, Loss: 3.96\n",
      "Epoch: 9, Minibatch: 0, Loss: 8.17\n",
      "Epoch: 9, Minibatch: 1, Loss: 6.29\n",
      "Epoch: 9, Minibatch: 2, Loss: 5.06\n",
      "Epoch: 9, Minibatch: 3, Loss: 4.11\n",
      "Epoch: 9, Minibatch: 4, Loss: 2.84\n",
      "Epoch: 9, Minibatch: 5, Loss: 1.82\n",
      "Epoch: 9, Minibatch: 6, Loss: 1.37\n",
      "Epoch: 9, Minibatch: 7, Loss: 0.51\n",
      "Epoch: 9, Minibatch: 8, Loss: 0.66\n",
      "Epoch: 9, Minibatch: 9, Loss: 0.23\n",
      "Epoch: 9, Minibatch: 10, Loss: 0.37\n",
      "Epoch: 9, Minibatch: 11, Loss: 0.84\n",
      "Epoch: 9, Minibatch: 12, Loss: 0.81\n",
      "Epoch: 9, Minibatch: 13, Loss: 1.90\n",
      "Epoch: 9, Minibatch: 14, Loss: 2.54\n",
      "Epoch: 9, Minibatch: 15, Loss: 3.97\n",
      "Epoch: 10, Minibatch: 0, Loss: 7.96\n",
      "Epoch: 10, Minibatch: 1, Loss: 6.11\n",
      "Epoch: 10, Minibatch: 2, Loss: 4.91\n",
      "Epoch: 10, Minibatch: 3, Loss: 3.99\n",
      "Epoch: 10, Minibatch: 4, Loss: 2.75\n",
      "Epoch: 10, Minibatch: 5, Loss: 1.75\n",
      "Epoch: 10, Minibatch: 6, Loss: 1.32\n",
      "Epoch: 10, Minibatch: 7, Loss: 0.49\n",
      "Epoch: 10, Minibatch: 8, Loss: 0.65\n",
      "Epoch: 10, Minibatch: 9, Loss: 0.23\n",
      "Epoch: 10, Minibatch: 10, Loss: 0.38\n",
      "Epoch: 10, Minibatch: 11, Loss: 0.85\n",
      "Epoch: 10, Minibatch: 12, Loss: 0.82\n",
      "Epoch: 10, Minibatch: 13, Loss: 1.92\n",
      "Epoch: 10, Minibatch: 14, Loss: 2.55\n",
      "Epoch: 10, Minibatch: 15, Loss: 3.98\n"
     ]
    },
    {
     "name": "stderr",
     "output_type": "stream",
     "text": [
      "/home/sina/anaconda/envs/cntk-py35/lib/python3.5/site-packages/cntk/core.py:351: UserWarning: your data is of type \"float64\", but your input variable (uid \"Input4\") expects \"<class 'numpy.float32'>\". Please convert your data beforehand to speed up training.\n",
      "  (sample.dtype, var.uid, str(var.dtype)))\n"
     ]
    }
   ],
   "source": [
    "for epoch in range(0, num_epochs):\n",
    "    for batch_num in range(0, num_minibatches_to_train):\n",
    "        batch_features = features[(batch_num * batch_size):(batch_num * batch_size + batch_size), :].astype(np.float32)\n",
    "        batch_labels = predictions[(batch_num * batch_size):(batch_num * batch_size + batch_size), :]\n",
    "        train_op.train_minibatch({input: batch_features, label: batch_labels})\n",
    "        training_loss = train_op.previous_minibatch_loss_average\n",
    "        eval_value = train_op.previous_minibatch_evaluation_average\n",
    "        print(\"Epoch: {0}, Minibatch: {1}, Loss: {2:.2f}\".format(epoch+1,batch_num, training_loss))"
   ]
  },
  {
   "cell_type": "markdown",
   "metadata": {},
   "source": [
    "## Model Evaluation"
   ]
  },
  {
   "cell_type": "markdown",
   "metadata": {},
   "source": [
    "#### Test data"
   ]
  },
  {
   "cell_type": "code",
   "execution_count": 10,
   "metadata": {
    "collapsed": true
   },
   "outputs": [],
   "source": [
    "test_features = features[num_samples_to_train:num_samples, :]\n",
    "test_labels = predictions[num_samples_to_train:num_samples, :]"
   ]
  },
  {
   "cell_type": "markdown",
   "metadata": {},
   "source": [
    "#### Train data"
   ]
  },
  {
   "cell_type": "code",
   "execution_count": 11,
   "metadata": {
    "collapsed": true
   },
   "outputs": [],
   "source": [
    "train_features = features[0:num_samples_to_train, :]\n",
    "train_labels = predictions[0:num_samples_to_train, :]"
   ]
  },
  {
   "cell_type": "markdown",
   "metadata": {},
   "source": [
    "#### Print weight and bias"
   ]
  },
  {
   "cell_type": "code",
   "execution_count": 12,
   "metadata": {},
   "outputs": [
    {
     "name": "stdout",
     "output_type": "stream",
     "text": [
      "Trained parameters are: w= -1.01, b=-0.18\n"
     ]
    }
   ],
   "source": [
    "print(\"Trained parameters are: w= {0:.2f}, b={1:.2f}\".format(pred.W.value[0][0], pred.b.value[0]))"
   ]
  },
  {
   "cell_type": "markdown",
   "metadata": {},
   "source": [
    "## Plot"
   ]
  },
  {
   "cell_type": "markdown",
   "metadata": {},
   "source": [
    "#### Evaluation of training set"
   ]
  },
  {
   "cell_type": "code",
   "execution_count": 13,
   "metadata": {},
   "outputs": [
    {
     "data": {
      "image/png": "[encoded data removed]",
      "text/plain": [
       "<matplotlib.figure.Figure at 0x7f6da2a5b358>"
      ]
     },
     "metadata": {},
     "output_type": "display_data"
    }
   ],
   "source": [
    "plt.scatter(train_features[:,0], train_labels[:,0], c='b')\n",
    "X = train_features[:,0]\n",
    "Y = pred.W.value[0] * train_features[:,0] + pred.b.value[0]\n",
    "plt.plot(X, Y, 'r')\n",
    "plt.xlabel(\"Feature\")\n",
    "plt.ylabel(\"Predicted\")\n",
    "plt.show()"
   ]
  },
  {
   "cell_type": "markdown",
   "metadata": {},
   "source": [
    "#### Evaluation on test set"
   ]
  },
  {
   "cell_type": "code",
   "execution_count": 14,
   "metadata": {},
   "outputs": [
    {
     "data": {
      "image/png": "[encoded data removed]",
      "text/plain": [
       "<matplotlib.figure.Figure at 0x7f6d9a0fcc88>"
      ]
     },
     "metadata": {},
     "output_type": "display_data"
    }
   ],
   "source": [
    "plt.scatter(test_features[:,0], test_labels[:,0], c='b')\n",
    "X = test_features[:,0]\n",
    "Y = pred.W.value[0] * test_features[:,0] + pred.b.value[0]\n",
    "plt.plot(X, Y, 'r')\n",
    "plt.xlabel(\"Feature\")\n",
    "plt.ylabel(\"Predicted\")\n",
    "plt.show()"
   ]
  }
 ],
 "metadata": {
  "kernelspec": {
   "display_name": "Python 3",
   "language": "python",
   "name": "python3"
  },
  "language_info": {
   "codemirror_mode": {
    "name": "ipython",
    "version": 3
   },
   "file_extension": ".py",
   "mimetype": "text/x-python",
   "name": "python",
   "nbconvert_exporter": "python",
   "pygments_lexer": "ipython3",
   "version": "3.5.2"
  }
 },
 "nbformat": 4,
 "nbformat_minor": 2
}
