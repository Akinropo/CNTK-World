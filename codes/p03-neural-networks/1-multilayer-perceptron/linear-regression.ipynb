{
 "cells": [
  {
   "cell_type": "markdown",
   "metadata": {},
   "source": [
    "# Linear Regression"
   ]
  },
  {
   "cell_type": "markdown",
   "metadata": {},
   "source": [
    "#### Import required packages"
   ]
  },
  {
   "cell_type": "code",
   "execution_count": 1,
   "metadata": {
    "collapsed": true
   },
   "outputs": [],
   "source": [
    "import numpy as np\n",
    "import matplotlib.pyplot as plt\n",
    "import cntk\n",
    "from cntk import Trainer, learning_rate_schedule, UnitType\n",
    "from cntk.learners import sgd\n",
    "from cntk.layers import default_options, Dense\n",
    "import argparse"
   ]
  },
  {
   "cell_type": "markdown",
   "metadata": {},
   "source": [
    "#### Define the parameters"
   ]
  },
  {
   "cell_type": "code",
   "execution_count": 2,
   "metadata": {
    "collapsed": true
   },
   "outputs": [],
   "source": [
    "num_samples = 500\n",
    "initial_learning_rate = 0.001\n",
    "num_epochs = 300\n",
    "num_samples_to_train = 400\n",
    "batch_size = 25\n",
    "\n",
    "# Network has only one output which is its prediction.\n",
    "input_dim = 1\n",
    "num_outputs = 1\n",
    "num_minibatches_to_train = int(num_samples_to_train / batch_size)"
   ]
  },
  {
   "cell_type": "markdown",
   "metadata": {},
   "source": [
    "### Arbitrary data creation"
   ]
  },
  {
   "cell_type": "code",
   "execution_count": 3,
   "metadata": {
    "collapsed": true
   },
   "outputs": [],
   "source": [
    "# random data\n",
    "features = np.linspace(-1, 1, num_samples)\n",
    "predictions = 2 * features + np.random.randn(*features.shape) * 0.5"
   ]
  },
  {
   "cell_type": "markdown",
   "metadata": {},
   "source": [
    "### Scatter plot"
   ]
  },
  {
   "cell_type": "code",
   "execution_count": 4,
   "metadata": {},
   "outputs": [
    {
     "data": {
      "image/png": "[encoded data removed]",
      "text/plain": [
       "<matplotlib.figure.Figure at 0x7f72a3536390>"
      ]
     },
     "metadata": {},
     "output_type": "display_data"
    }
   ],
   "source": [
    "plt.scatter(features, predictions, c='r')\n",
    "plt.xlabel(\"X\")\n",
    "plt.ylabel(\"Y\")\n",
    "plt.show()"
   ]
  },
  {
   "cell_type": "markdown",
   "metadata": {},
   "source": [
    "#### Adding one dimension for further processing. Input must be formatted as (batch_size,1)."
   ]
  },
  {
   "cell_type": "code",
   "execution_count": 5,
   "metadata": {
    "collapsed": true
   },
   "outputs": [],
   "source": [
    "features = features[:,None]\n",
    "predictions = predictions[:,None]\n"
   ]
  },
  {
   "cell_type": "markdown",
   "metadata": {},
   "source": [
    "### Network Architecture"
   ]
  },
  {
   "cell_type": "markdown",
   "metadata": {},
   "source": [
    "#### Output is a single node with a linear operation."
   ]
  },
  {
   "cell_type": "code",
   "execution_count": 6,
   "metadata": {
    "collapsed": true
   },
   "outputs": [],
   "source": [
    "input = cntk.input_variable(input_dim)\n",
    "label = cntk.input_variable(num_outputs)\n",
    "pred = Dense(num_outputs)(input)"
   ]
  },
  {
   "cell_type": "markdown",
   "metadata": {},
   "source": [
    "#### Defining loss"
   ]
  },
  {
   "cell_type": "code",
   "execution_count": 7,
   "metadata": {
    "collapsed": true
   },
   "outputs": [],
   "source": [
    "loss = cntk.squared_error(pred, label)\n",
    "eval_fun = cntk.squared_error(pred, label)"
   ]
  },
  {
   "cell_type": "markdown",
   "metadata": {},
   "source": [
    "## Training"
   ]
  },
  {
   "cell_type": "markdown",
   "metadata": {},
   "source": [
    "#### Instantiate the trainer object to drive the model training"
   ]
  },
  {
   "cell_type": "code",
   "execution_count": 8,
   "metadata": {
    "collapsed": true
   },
   "outputs": [],
   "source": [
    "learning_rate = learning_rate_schedule(initial_learning_rate, UnitType.minibatch)\n",
    "optimizer_op = sgd(pred.parameters, learning_rate)\n",
    "train_op = Trainer(pred, (loss, eval_fun), [optimizer_op])"
   ]
  },
  {
   "cell_type": "markdown",
   "metadata": {},
   "source": [
    "#### Training loop"
   ]
  },
  {
   "cell_type": "code",
   "execution_count": 9,
   "metadata": {},
   "outputs": [
    {
     "name": "stderr",
     "output_type": "stream",
     "text": [
      "/home/sina/anaconda/envs/cntk-py35/lib/python3.5/site-packages/cntk/core.py:351: UserWarning: your data is of type \"float64\", but your input variable (uid \"Input4\") expects \"<class 'numpy.float32'>\". Please convert your data beforehand to speed up training.\n",
      "  (sample.dtype, var.uid, str(var.dtype)))\n"
     ]
    },
    {
     "name": "stdout",
     "output_type": "stream",
     "text": [
      "Epoch: 1, Loss: 2.64\n",
      "Epoch: 2, Loss: 2.65\n",
      "Epoch: 3, Loss: 2.67\n",
      "Epoch: 4, Loss: 2.68\n",
      "Epoch: 5, Loss: 2.69\n",
      "Epoch: 6, Loss: 2.70\n",
      "Epoch: 7, Loss: 2.71\n",
      "Epoch: 8, Loss: 2.72\n",
      "Epoch: 9, Loss: 2.72\n",
      "Epoch: 10, Loss: 2.73\n",
      "Epoch: 11, Loss: 2.73\n",
      "Epoch: 12, Loss: 2.73\n",
      "Epoch: 13, Loss: 2.73\n",
      "Epoch: 14, Loss: 2.73\n",
      "Epoch: 15, Loss: 2.72\n",
      "Epoch: 16, Loss: 2.72\n",
      "Epoch: 17, Loss: 2.72\n",
      "Epoch: 18, Loss: 2.71\n",
      "Epoch: 19, Loss: 2.70\n",
      "Epoch: 20, Loss: 2.70\n",
      "Epoch: 21, Loss: 2.69\n",
      "Epoch: 22, Loss: 2.68\n",
      "Epoch: 23, Loss: 2.67\n",
      "Epoch: 24, Loss: 2.66\n",
      "Epoch: 25, Loss: 2.64\n",
      "Epoch: 26, Loss: 2.63\n",
      "Epoch: 27, Loss: 2.62\n",
      "Epoch: 28, Loss: 2.60\n",
      "Epoch: 29, Loss: 2.59\n",
      "Epoch: 30, Loss: 2.57\n",
      "Epoch: 31, Loss: 2.56\n",
      "Epoch: 32, Loss: 2.54\n",
      "Epoch: 33, Loss: 2.52\n",
      "Epoch: 34, Loss: 2.51\n",
      "Epoch: 35, Loss: 2.49\n",
      "Epoch: 36, Loss: 2.47\n",
      "Epoch: 37, Loss: 2.45\n",
      "Epoch: 38, Loss: 2.43\n",
      "Epoch: 39, Loss: 2.42\n",
      "Epoch: 40, Loss: 2.40\n",
      "Epoch: 41, Loss: 2.38\n",
      "Epoch: 42, Loss: 2.36\n",
      "Epoch: 43, Loss: 2.34\n",
      "Epoch: 44, Loss: 2.32\n",
      "Epoch: 45, Loss: 2.30\n",
      "Epoch: 46, Loss: 2.28\n",
      "Epoch: 47, Loss: 2.26\n",
      "Epoch: 48, Loss: 2.24\n",
      "Epoch: 49, Loss: 2.21\n",
      "Epoch: 50, Loss: 2.19\n",
      "Epoch: 51, Loss: 2.17\n",
      "Epoch: 52, Loss: 2.15\n",
      "Epoch: 53, Loss: 2.13\n",
      "Epoch: 54, Loss: 2.11\n",
      "Epoch: 55, Loss: 2.09\n",
      "Epoch: 56, Loss: 2.07\n",
      "Epoch: 57, Loss: 2.05\n",
      "Epoch: 58, Loss: 2.03\n",
      "Epoch: 59, Loss: 2.00\n",
      "Epoch: 60, Loss: 1.98\n",
      "Epoch: 61, Loss: 1.96\n",
      "Epoch: 62, Loss: 1.94\n",
      "Epoch: 63, Loss: 1.92\n",
      "Epoch: 64, Loss: 1.90\n",
      "Epoch: 65, Loss: 1.88\n",
      "Epoch: 66, Loss: 1.86\n",
      "Epoch: 67, Loss: 1.84\n",
      "Epoch: 68, Loss: 1.82\n",
      "Epoch: 69, Loss: 1.80\n",
      "Epoch: 70, Loss: 1.78\n",
      "Epoch: 71, Loss: 1.76\n",
      "Epoch: 72, Loss: 1.74\n",
      "Epoch: 73, Loss: 1.72\n",
      "Epoch: 74, Loss: 1.70\n",
      "Epoch: 75, Loss: 1.68\n",
      "Epoch: 76, Loss: 1.66\n",
      "Epoch: 77, Loss: 1.64\n",
      "Epoch: 78, Loss: 1.62\n",
      "Epoch: 79, Loss: 1.60\n",
      "Epoch: 80, Loss: 1.58\n",
      "Epoch: 81, Loss: 1.56\n",
      "Epoch: 82, Loss: 1.55\n",
      "Epoch: 83, Loss: 1.53\n",
      "Epoch: 84, Loss: 1.51\n",
      "Epoch: 85, Loss: 1.49\n",
      "Epoch: 86, Loss: 1.47\n",
      "Epoch: 87, Loss: 1.45\n",
      "Epoch: 88, Loss: 1.44\n",
      "Epoch: 89, Loss: 1.42\n",
      "Epoch: 90, Loss: 1.40\n",
      "Epoch: 91, Loss: 1.39\n",
      "Epoch: 92, Loss: 1.37\n",
      "Epoch: 93, Loss: 1.35\n",
      "Epoch: 94, Loss: 1.34\n",
      "Epoch: 95, Loss: 1.32\n",
      "Epoch: 96, Loss: 1.30\n",
      "Epoch: 97, Loss: 1.29\n",
      "Epoch: 98, Loss: 1.27\n",
      "Epoch: 99, Loss: 1.26\n",
      "Epoch: 100, Loss: 1.24\n",
      "Epoch: 101, Loss: 1.22\n",
      "Epoch: 102, Loss: 1.21\n",
      "Epoch: 103, Loss: 1.19\n",
      "Epoch: 104, Loss: 1.18\n",
      "Epoch: 105, Loss: 1.16\n",
      "Epoch: 106, Loss: 1.15\n",
      "Epoch: 107, Loss: 1.14\n",
      "Epoch: 108, Loss: 1.12\n",
      "Epoch: 109, Loss: 1.11\n",
      "Epoch: 110, Loss: 1.09\n",
      "Epoch: 111, Loss: 1.08\n",
      "Epoch: 112, Loss: 1.07\n",
      "Epoch: 113, Loss: 1.05\n",
      "Epoch: 114, Loss: 1.04\n",
      "Epoch: 115, Loss: 1.03\n",
      "Epoch: 116, Loss: 1.01\n",
      "Epoch: 117, Loss: 1.00\n",
      "Epoch: 118, Loss: 0.99\n",
      "Epoch: 119, Loss: 0.98\n",
      "Epoch: 120, Loss: 0.97\n",
      "Epoch: 121, Loss: 0.95\n",
      "Epoch: 122, Loss: 0.94\n",
      "Epoch: 123, Loss: 0.93\n",
      "Epoch: 124, Loss: 0.92\n",
      "Epoch: 125, Loss: 0.91\n",
      "Epoch: 126, Loss: 0.90\n",
      "Epoch: 127, Loss: 0.88\n",
      "Epoch: 128, Loss: 0.87\n",
      "Epoch: 129, Loss: 0.86\n",
      "Epoch: 130, Loss: 0.85\n",
      "Epoch: 131, Loss: 0.84\n",
      "Epoch: 132, Loss: 0.83\n",
      "Epoch: 133, Loss: 0.82\n",
      "Epoch: 134, Loss: 0.81\n",
      "Epoch: 135, Loss: 0.80\n",
      "Epoch: 136, Loss: 0.79\n",
      "Epoch: 137, Loss: 0.78\n",
      "Epoch: 138, Loss: 0.77\n",
      "Epoch: 139, Loss: 0.76\n",
      "Epoch: 140, Loss: 0.75\n",
      "Epoch: 141, Loss: 0.74\n",
      "Epoch: 142, Loss: 0.73\n",
      "Epoch: 143, Loss: 0.73\n",
      "Epoch: 144, Loss: 0.72\n",
      "Epoch: 145, Loss: 0.71\n",
      "Epoch: 146, Loss: 0.70\n",
      "Epoch: 147, Loss: 0.69\n",
      "Epoch: 148, Loss: 0.68\n",
      "Epoch: 149, Loss: 0.68\n",
      "Epoch: 150, Loss: 0.67\n",
      "Epoch: 151, Loss: 0.66\n",
      "Epoch: 152, Loss: 0.65\n",
      "Epoch: 153, Loss: 0.64\n",
      "Epoch: 154, Loss: 0.64\n",
      "Epoch: 155, Loss: 0.63\n",
      "Epoch: 156, Loss: 0.62\n",
      "Epoch: 157, Loss: 0.61\n",
      "Epoch: 158, Loss: 0.61\n",
      "Epoch: 159, Loss: 0.60\n",
      "Epoch: 160, Loss: 0.59\n",
      "Epoch: 161, Loss: 0.59\n",
      "Epoch: 162, Loss: 0.58\n",
      "Epoch: 163, Loss: 0.57\n",
      "Epoch: 164, Loss: 0.57\n",
      "Epoch: 165, Loss: 0.56\n",
      "Epoch: 166, Loss: 0.55\n",
      "Epoch: 167, Loss: 0.55\n",
      "Epoch: 168, Loss: 0.54\n",
      "Epoch: 169, Loss: 0.53\n",
      "Epoch: 170, Loss: 0.53\n",
      "Epoch: 171, Loss: 0.52\n",
      "Epoch: 172, Loss: 0.52\n",
      "Epoch: 173, Loss: 0.51\n",
      "Epoch: 174, Loss: 0.51\n",
      "Epoch: 175, Loss: 0.50\n",
      "Epoch: 176, Loss: 0.49\n",
      "Epoch: 177, Loss: 0.49\n",
      "Epoch: 178, Loss: 0.48\n",
      "Epoch: 179, Loss: 0.48\n",
      "Epoch: 180, Loss: 0.47\n",
      "Epoch: 181, Loss: 0.47\n",
      "Epoch: 182, Loss: 0.46\n",
      "Epoch: 183, Loss: 0.46\n",
      "Epoch: 184, Loss: 0.45\n",
      "Epoch: 185, Loss: 0.45\n",
      "Epoch: 186, Loss: 0.44\n",
      "Epoch: 187, Loss: 0.44\n",
      "Epoch: 188, Loss: 0.44\n",
      "Epoch: 189, Loss: 0.43\n",
      "Epoch: 190, Loss: 0.43\n",
      "Epoch: 191, Loss: 0.42\n",
      "Epoch: 192, Loss: 0.42\n",
      "Epoch: 193, Loss: 0.41\n",
      "Epoch: 194, Loss: 0.41\n",
      "Epoch: 195, Loss: 0.41\n",
      "Epoch: 196, Loss: 0.40\n",
      "Epoch: 197, Loss: 0.40\n",
      "Epoch: 198, Loss: 0.39\n",
      "Epoch: 199, Loss: 0.39\n",
      "Epoch: 200, Loss: 0.39\n",
      "Epoch: 201, Loss: 0.38\n",
      "Epoch: 202, Loss: 0.38\n",
      "Epoch: 203, Loss: 0.38\n",
      "Epoch: 204, Loss: 0.37\n",
      "Epoch: 205, Loss: 0.37\n",
      "Epoch: 206, Loss: 0.37\n",
      "Epoch: 207, Loss: 0.36\n",
      "Epoch: 208, Loss: 0.36\n",
      "Epoch: 209, Loss: 0.36\n",
      "Epoch: 210, Loss: 0.35\n",
      "Epoch: 211, Loss: 0.35\n",
      "Epoch: 212, Loss: 0.35\n",
      "Epoch: 213, Loss: 0.34\n",
      "Epoch: 214, Loss: 0.34\n",
      "Epoch: 215, Loss: 0.34\n",
      "Epoch: 216, Loss: 0.33\n",
      "Epoch: 217, Loss: 0.33\n",
      "Epoch: 218, Loss: 0.33\n",
      "Epoch: 219, Loss: 0.33\n",
      "Epoch: 220, Loss: 0.32\n",
      "Epoch: 221, Loss: 0.32\n",
      "Epoch: 222, Loss: 0.32\n",
      "Epoch: 223, Loss: 0.32\n",
      "Epoch: 224, Loss: 0.31\n",
      "Epoch: 225, Loss: 0.31\n",
      "Epoch: 226, Loss: 0.31\n",
      "Epoch: 227, Loss: 0.31\n",
      "Epoch: 228, Loss: 0.30\n",
      "Epoch: 229, Loss: 0.30\n",
      "Epoch: 230, Loss: 0.30\n",
      "Epoch: 231, Loss: 0.30\n",
      "Epoch: 232, Loss: 0.30\n",
      "Epoch: 233, Loss: 0.29\n",
      "Epoch: 234, Loss: 0.29\n",
      "Epoch: 235, Loss: 0.29\n",
      "Epoch: 236, Loss: 0.29\n",
      "Epoch: 237, Loss: 0.29\n",
      "Epoch: 238, Loss: 0.28\n",
      "Epoch: 239, Loss: 0.28\n",
      "Epoch: 240, Loss: 0.28\n",
      "Epoch: 241, Loss: 0.28\n",
      "Epoch: 242, Loss: 0.28\n",
      "Epoch: 243, Loss: 0.27\n",
      "Epoch: 244, Loss: 0.27\n",
      "Epoch: 245, Loss: 0.27\n",
      "Epoch: 246, Loss: 0.27\n",
      "Epoch: 247, Loss: 0.27\n",
      "Epoch: 248, Loss: 0.27\n",
      "Epoch: 249, Loss: 0.26\n",
      "Epoch: 250, Loss: 0.26\n",
      "Epoch: 251, Loss: 0.26\n",
      "Epoch: 252, Loss: 0.26\n",
      "Epoch: 253, Loss: 0.26\n",
      "Epoch: 254, Loss: 0.26\n",
      "Epoch: 255, Loss: 0.26\n",
      "Epoch: 256, Loss: 0.25\n",
      "Epoch: 257, Loss: 0.25\n",
      "Epoch: 258, Loss: 0.25\n",
      "Epoch: 259, Loss: 0.25\n",
      "Epoch: 260, Loss: 0.25\n",
      "Epoch: 261, Loss: 0.25\n",
      "Epoch: 262, Loss: 0.25\n",
      "Epoch: 263, Loss: 0.25\n",
      "Epoch: 264, Loss: 0.24\n",
      "Epoch: 265, Loss: 0.24\n",
      "Epoch: 266, Loss: 0.24\n",
      "Epoch: 267, Loss: 0.24\n",
      "Epoch: 268, Loss: 0.24\n",
      "Epoch: 269, Loss: 0.24\n",
      "Epoch: 270, Loss: 0.24\n",
      "Epoch: 271, Loss: 0.24\n",
      "Epoch: 272, Loss: 0.24\n",
      "Epoch: 273, Loss: 0.24\n",
      "Epoch: 274, Loss: 0.23\n",
      "Epoch: 275, Loss: 0.23\n",
      "Epoch: 276, Loss: 0.23\n",
      "Epoch: 277, Loss: 0.23\n",
      "Epoch: 278, Loss: 0.23\n",
      "Epoch: 279, Loss: 0.23\n",
      "Epoch: 280, Loss: 0.23\n",
      "Epoch: 281, Loss: 0.23\n",
      "Epoch: 282, Loss: 0.23\n",
      "Epoch: 283, Loss: 0.23\n",
      "Epoch: 284, Loss: 0.23\n",
      "Epoch: 285, Loss: 0.23\n",
      "Epoch: 286, Loss: 0.22\n",
      "Epoch: 287, Loss: 0.22\n",
      "Epoch: 288, Loss: 0.22\n",
      "Epoch: 289, Loss: 0.22\n",
      "Epoch: 290, Loss: 0.22\n",
      "Epoch: 291, Loss: 0.22\n",
      "Epoch: 292, Loss: 0.22\n",
      "Epoch: 293, Loss: 0.22\n",
      "Epoch: 294, Loss: 0.22\n",
      "Epoch: 295, Loss: 0.22\n",
      "Epoch: 296, Loss: 0.22\n",
      "Epoch: 297, Loss: 0.22\n",
      "Epoch: 298, Loss: 0.22\n",
      "Epoch: 299, Loss: 0.22\n",
      "Epoch: 300, Loss: 0.22\n"
     ]
    }
   ],
   "source": [
    "for epoch in range(0, num_epochs):\n",
    "    for batch_num in range(0, num_minibatches_to_train):\n",
    "        batch_features = features[(batch_num * batch_size):(batch_num * batch_size + batch_size), :].astype(np.float32)\n",
    "        batch_labels = predictions[(batch_num * batch_size):(batch_num * batch_size + batch_size), :]\n",
    "        train_op.train_minibatch({input: batch_features, label: batch_labels})\n",
    "        training_loss = train_op.previous_minibatch_loss_average\n",
    "        eval_value = train_op.previous_minibatch_evaluation_average\n",
    "    print(\"Epoch: {0}, Loss: {1:.2f}\".format(epoch+1, training_loss))"
   ]
  },
  {
   "cell_type": "markdown",
   "metadata": {},
   "source": [
    "## Model Evaluation"
   ]
  },
  {
   "cell_type": "markdown",
   "metadata": {},
   "source": [
    "#### Test data"
   ]
  },
  {
   "cell_type": "code",
   "execution_count": 10,
   "metadata": {
    "collapsed": true
   },
   "outputs": [],
   "source": [
    "test_features = features[num_samples_to_train:num_samples, :]\n",
    "test_labels = predictions[num_samples_to_train:num_samples, :]"
   ]
  },
  {
   "cell_type": "markdown",
   "metadata": {},
   "source": [
    "#### Train data"
   ]
  },
  {
   "cell_type": "code",
   "execution_count": 11,
   "metadata": {
    "collapsed": true
   },
   "outputs": [],
   "source": [
    "train_features = features[0:num_samples_to_train, :]\n",
    "train_labels = predictions[0:num_samples_to_train, :]"
   ]
  },
  {
   "cell_type": "markdown",
   "metadata": {},
   "source": [
    "#### Print weight and bias"
   ]
  },
  {
   "cell_type": "code",
   "execution_count": 12,
   "metadata": {},
   "outputs": [
    {
     "name": "stdout",
     "output_type": "stream",
     "text": [
      "Trained parameters are: w= 1.57, b=-0.12\n"
     ]
    }
   ],
   "source": [
    "print(\"Trained parameters are: w= {0:.2f}, b={1:.2f}\".format(pred.W.value[0][0], pred.b.value[0]))"
   ]
  },
  {
   "cell_type": "markdown",
   "metadata": {},
   "source": [
    "## Plot"
   ]
  },
  {
   "cell_type": "markdown",
   "metadata": {},
   "source": [
    "#### Evaluation of training set"
   ]
  },
  {
   "cell_type": "code",
   "execution_count": 13,
   "metadata": {},
   "outputs": [
    {
     "data": {
      "image/png": "[encoded data removed]",
      "text/plain": [
       "<matplotlib.figure.Figure at 0x7f72a06b3eb8>"
      ]
     },
     "metadata": {},
     "output_type": "display_data"
    }
   ],
   "source": [
    "plt.scatter(train_features[:,0], train_labels[:,0], c='b')\n",
    "X = train_features[:,0]\n",
    "Y = pred.W.value[0] * train_features[:,0] + pred.b.value[0]\n",
    "plt.plot(X, Y, 'r')\n",
    "plt.xlabel(\"Feature\")\n",
    "plt.ylabel(\"Predicted\")\n",
    "plt.show()"
   ]
  },
  {
   "cell_type": "markdown",
   "metadata": {},
   "source": [
    "#### Evaluation on test set"
   ]
  },
  {
   "cell_type": "code",
   "execution_count": 14,
   "metadata": {},
   "outputs": [
    {
     "data": {
      "image/png": "[encoded data removed]",
      "text/plain": [
       "<matplotlib.figure.Figure at 0x7f72985360f0>"
      ]
     },
     "metadata": {},
     "output_type": "display_data"
    }
   ],
   "source": [
    "plt.scatter(test_features[:,0], test_labels[:,0], c='b')\n",
    "X = test_features[:,0]\n",
    "Y = pred.W.value[0] * test_features[:,0] + pred.b.value[0]\n",
    "plt.plot(X, Y, 'r')\n",
    "plt.xlabel(\"Feature\")\n",
    "plt.ylabel(\"Predicted\")\n",
    "plt.show()"
   ]
  }
 ],
 "metadata": {
  "kernelspec": {
   "display_name": "Python 3",
   "language": "python",
   "name": "python3"
  },
  "language_info": {
   "codemirror_mode": {
    "name": "ipython",
    "version": 3
   },
   "file_extension": ".py",
   "mimetype": "text/x-python",
   "name": "python",
   "nbconvert_exporter": "python",
   "pygments_lexer": "ipython3",
   "version": "3.5.2"
  }
 },
 "nbformat": 4,
 "nbformat_minor": 2
}
